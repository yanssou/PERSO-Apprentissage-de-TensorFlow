{
 "cells": [
  {
   "cell_type": "markdown",
   "id": "70f1e8cc",
   "metadata": {},
   "source": [
    "# Imports"
   ]
  },
  {
   "cell_type": "code",
   "execution_count": 1,
   "id": "e9120b22",
   "metadata": {},
   "outputs": [],
   "source": [
    "# Matplotlib\n",
    "import matplotlib.pyplot as plt\n",
    "# TensorFlow\n",
    "import tensorflow as tf\n",
    "# Autres Imports\n",
    "import pandas as pd\n",
    "import numpy as np\n",
    "import sys"
   ]
  },
  {
   "cell_type": "markdown",
   "id": "b2af83ff",
   "metadata": {},
   "source": [
    "# Vérification que l'on utilise la bonne version de TensorFlow (version 2)"
   ]
  },
  {
   "cell_type": "code",
   "execution_count": 2,
   "id": "db5e0198",
   "metadata": {},
   "outputs": [],
   "source": [
    "assert hasattr(tf, \"function\")"
   ]
  },
  {
   "cell_type": "markdown",
   "id": "62011b6b",
   "metadata": {},
   "source": [
    "# Utilisation de Fashion MNIST\n",
    "\n",
    "Fashion MNIST est un dataset déjà préparé qui contient des images de vêtements (chaussures, chemises, talons...). On l'utilise pour entraîner notre modèle à reconnaître les différents types de vêtements (10 possibles)."
   ]
  },
  {
   "cell_type": "code",
   "execution_count": 3,
   "id": "d1145eca",
   "metadata": {},
   "outputs": [
    {
     "name": "stdout",
     "output_type": "stream",
     "text": [
      "(10000, 28, 28)\n",
      "(10000,)\n"
     ]
    }
   ],
   "source": [
    "# Import de Fashion MNIST\n",
    "fashion_mnist = tf.keras.datasets.fashion_mnist\n",
    "(images, targets), (_,_) = fashion_mnist.load_data() # recuperation des images et targets du dataset\n",
    "# On recupere une sous partie du dataset afin de faire les calculs plus rapidement\n",
    "images = images[:10000]\n",
    "targets = targets[:10000]\n",
    "\n",
    "print(images.shape)\n",
    "print(targets.shape)"
   ]
  },
  {
   "cell_type": "markdown",
   "id": "fcd5617f",
   "metadata": {},
   "source": [
    "# Plot d'une des données"
   ]
  },
  {
   "cell_type": "code",
   "execution_count": 4,
   "id": "ebe48ea1",
   "metadata": {},
   "outputs": [
    {
     "data": {
      "image/png": "[encoded data removed]",
      "text/plain": [
       "<Figure size 432x288 with 1 Axes>"
      ]
     },
     "metadata": {
      "needs_background": "light"
     },
     "output_type": "display_data"
    }
   ],
   "source": [
    "# Création des classes \n",
    "targets_names = [\"T-shirt/top\", \"Trouser\", \"Pullover\", \"Dress\", \"Coat\", \"Sandal\", \"Shirt\", \"Sneaker\", \"Bag\", \"Ankle boot\"]\n",
    "\n",
    "# Affichage de la 10eme image\n",
    "plt.imshow(images[9], cmap=\"binary\") # cmap permet de dire que l'image est en gris donc pas de couleurs\n",
    "plt.title(targets_names[targets[9]])\n",
    "plt.show()"
   ]
  },
  {
   "cell_type": "markdown",
   "id": "71db89a0",
   "metadata": {},
   "source": [
    "# Création du modèle\n",
    "\n",
    "## Transformation de l'image en un unique vecteur (flatten)"
   ]
  },
  {
   "cell_type": "code",
   "execution_count": 5,
   "id": "6d979fca",
   "metadata": {},
   "outputs": [
    {
     "name": "stdout",
     "output_type": "stream",
     "text": [
      "Shape de l'image (1, 28, 28)\n",
      "1/1 [==============================] - 0s 58ms/step\n",
      "Shape de l'image apres avoir ete flatten (1, 784)\n"
     ]
    }
   ],
   "source": [
    "# Creation du modele\n",
    "model = tf.keras.models.Sequential()\n",
    "model.add(tf.keras.layers.Flatten(input_shape=[28,28])) # ajout d'une operation au modele qui \"applatit\" l'entree \n",
    "\n",
    "print(\"Shape de l'image\", images[0:1].shape)\n",
    "model_output = model.predict(images[0:1])\n",
    "print(\"Shape de l'image apres avoir ete flatten\", model_output.shape)"
   ]
  },
  {
   "cell_type": "code",
   "execution_count": 6,
   "id": "b2106b44",
   "metadata": {},
   "outputs": [
    {
     "name": "stdout",
     "output_type": "stream",
     "text": [
      "1/1 [==============================] - 0s 43ms/step\n",
      "[[6.0444127e-28 0.0000000e+00 0.0000000e+00 0.0000000e+00 0.0000000e+00\n",
      "  0.0000000e+00 0.0000000e+00 1.0000000e+00 3.7509973e-37 0.0000000e+00]] [9]\n"
     ]
    }
   ],
   "source": [
    "# Flatten\n",
    "model = tf.keras.models.Sequential()\n",
    "model.add(tf.keras.layers.Flatten(input_shape=[28,28]))\n",
    "\n",
    "# Ajout des layers de neurones \n",
    "# Modele sequentiel donc l'operation Dense va prendre en entree le resultat de l'operation precedente qui dans notre cas est le\n",
    "# flatten\n",
    "model.add(tf.keras.layers.Dense(256, activation=\"relu\")) # ajout d'une premiere couche de 256 neurones\n",
    "model.add(tf.keras.layers.Dense(256, activation=\"relu\")) # ajout d'une deuxieme couche de 128 neurones ou chaque neurone est connecte a tous les autres du layer precedent\n",
    "model.add(tf.keras.layers.Dense(10, activation=\"softmax\")) # ajout des 10 neurones de sorties permettant de dire de quelle classe est la donnee\n",
    "# softmax fait en sorte que la somme de la valeur de sorties des 10 neurones soit egale a 1 ce qui transforme ces sorties en probabilite\n",
    "model_output = model.predict(images[0:1])\n",
    "print(model_output, targets[0:1])"
   ]
  },
  {
   "cell_type": "markdown",
   "id": "330d8096",
   "metadata": {},
   "source": [
    "Ici, on voit que notre modèle s'est trompé. En effet, il prédit une probabilité de 1 pour la classe 5 mais la classe attendue était la classe 9. "
   ]
  },
  {
   "cell_type": "markdown",
   "id": "cc48a00e",
   "metadata": {},
   "source": [
    "# Résumé de notre modèle"
   ]
  },
  {
   "cell_type": "code",
   "execution_count": 7,
   "id": "94673e7f",
   "metadata": {},
   "outputs": [
    {
     "name": "stdout",
     "output_type": "stream",
     "text": [
      "Model: \"sequential_1\"\n",
      "_________________________________________________________________\n",
      " Layer (type)                Output Shape              Param #   \n",
      "=================================================================\n",
      " flatten_1 (Flatten)         (None, 784)               0         \n",
      "                                                                 \n",
      " dense (Dense)               (None, 256)               200960    \n",
      "                                                                 \n",
      " dense_1 (Dense)             (None, 256)               65792     \n",
      "                                                                 \n",
      " dense_2 (Dense)             (None, 10)                2570      \n",
      "                                                                 \n",
      "=================================================================\n",
      "Total params: 269,322\n",
      "Trainable params: 269,322\n",
      "Non-trainable params: 0\n",
      "_________________________________________________________________\n"
     ]
    }
   ],
   "source": [
    "model.summary()"
   ]
  },
  {
   "cell_type": "markdown",
   "id": "38af2396",
   "metadata": {},
   "source": [
    "# Compilation du modèle"
   ]
  },
  {
   "cell_type": "code",
   "execution_count": 8,
   "id": "4592834b",
   "metadata": {},
   "outputs": [],
   "source": [
    "# utilisation d'erreurs afin de minimiser ces dernieres\n",
    "model.compile(\n",
    "    loss=\"sparse_categorical_crossentropy\",\n",
    "    optimizer=\"sgd\", # utilise la methode de la descente de gradient pour reduire les erreurs (stochastique gradient descent)\n",
    "    metrics=[\"accuracy\"]\n",
    ")"
   ]
  },
  {
   "cell_type": "code",
   "execution_count": 9,
   "id": "1cbb32a5",
   "metadata": {},
   "outputs": [],
   "source": [
    "# Normalisation des données \n",
    "images = (images - np.mean(images)) / np.std(images)"
   ]
  },
  {
   "cell_type": "markdown",
   "id": "a42ad91a",
   "metadata": {},
   "source": [
    "# Entraînement du modèle"
   ]
  },
  {
   "cell_type": "code",
   "execution_count": 10,
   "id": "eb572b75",
   "metadata": {},
   "outputs": [
    {
     "name": "stdout",
     "output_type": "stream",
     "text": [
      "Epoch 1/10\n",
      "313/313 [==============================] - 1s 1ms/step - loss: 0.8142 - accuracy: 0.7210\n",
      "Epoch 2/10\n",
      "313/313 [==============================] - 0s 1ms/step - loss: 0.5280 - accuracy: 0.8138\n",
      "Epoch 3/10\n",
      "313/313 [==============================] - 0s 1ms/step - loss: 0.4640 - accuracy: 0.8346\n",
      "Epoch 4/10\n",
      "313/313 [==============================] - 0s 1ms/step - loss: 0.4239 - accuracy: 0.8482\n",
      "Epoch 5/10\n",
      "313/313 [==============================] - 0s 1ms/step - loss: 0.3942 - accuracy: 0.8575\n",
      "Epoch 6/10\n",
      "313/313 [==============================] - 0s 1ms/step - loss: 0.3723 - accuracy: 0.8679\n",
      "Epoch 7/10\n",
      "313/313 [==============================] - 0s 2ms/step - loss: 0.3517 - accuracy: 0.8749\n",
      "Epoch 8/10\n",
      "313/313 [==============================] - 1s 2ms/step - loss: 0.3366 - accuracy: 0.8789\n",
      "Epoch 9/10\n",
      "313/313 [==============================] - 1s 2ms/step - loss: 0.3198 - accuracy: 0.8866\n",
      "Epoch 10/10\n",
      "313/313 [==============================] - 0s 1ms/step - loss: 0.3065 - accuracy: 0.8873\n"
     ]
    }
   ],
   "source": [
    "history = model.fit(images, targets, epochs=10) # entrainement de notre dataset en minimisant l'erreur grace a la cellule precedente. epochs signifie que l'on va repeter l'operation 10 fois"
   ]
  },
  {
   "cell_type": "markdown",
   "id": "3471c061",
   "metadata": {},
   "source": [
    "loss fait echo à \"sparse_categorical_crossentropy\" et l'accuracy est notre metrique. On remarque que loss baisse au cours des itérations ce qui montre qu'à chaque epoch, notre marge d'erreur est réduite. Cela est prouvé aussi par l'accuracy qui elle augmente."
   ]
  },
  {
   "cell_type": "markdown",
   "id": "2f06b33e",
   "metadata": {},
   "source": [
    "# Visualisation sur l'evolution du loss et de l'accuracy"
   ]
  },
  {
   "cell_type": "code",
   "execution_count": 11,
   "id": "1252fc3a",
   "metadata": {},
   "outputs": [
    {
     "data": {
      "image/png": "[encoded data removed]",
      "text/plain": [
       "<Figure size 432x288 with 1 Axes>"
      ]
     },
     "metadata": {
      "needs_background": "light"
     },
     "output_type": "display_data"
    },
    {
     "data": {
      "image/png": "[encoded data removed]",
      "text/plain": [
       "<Figure size 432x288 with 1 Axes>"
      ]
     },
     "metadata": {
      "needs_background": "light"
     },
     "output_type": "display_data"
    }
   ],
   "source": [
    "loss_curve = history.history[\"loss\"]\n",
    "acc_curve = history.history[\"accuracy\"]\n",
    "\n",
    "plt.plot(loss_curve)\n",
    "plt.title(\"Loss\")\n",
    "plt.show()\n",
    "\n",
    "plt.plot(acc_curve)\n",
    "plt.title(\"Accuracy\")\n",
    "plt.show()"
   ]
  },
  {
   "cell_type": "code",
   "execution_count": null,
   "id": "c7ea7b8d",
   "metadata": {},
   "outputs": [],
   "source": []
  }
 ],
 "metadata": {
  "kernelspec": {
   "display_name": "Python 3 (ipykernel)",
   "language": "python",
   "name": "python3"
  },
  "language_info": {
   "codemirror_mode": {
    "name": "ipython",
    "version": 3
   },
   "file_extension": ".py",
   "mimetype": "text/x-python",
   "name": "python",
   "nbconvert_exporter": "python",
   "pygments_lexer": "ipython3",
   "version": "3.9.13"
  }
 },
 "nbformat": 4,
 "nbformat_minor": 5
}

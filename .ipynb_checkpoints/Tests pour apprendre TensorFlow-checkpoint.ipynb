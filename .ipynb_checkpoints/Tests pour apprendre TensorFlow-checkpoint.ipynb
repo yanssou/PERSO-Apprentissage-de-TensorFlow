{
 "cells": [
  {
   "cell_type": "markdown",
   "id": "70f1e8cc",
   "metadata": {},
   "source": [
    "# Imports"
   ]
  },
  {
   "cell_type": "code",
   "execution_count": 1,
   "id": "e9120b22",
   "metadata": {},
   "outputs": [],
   "source": [
    "# Matplotlib\n",
    "import matplotlib.pyplot as plt\n",
    "# TensorFlow\n",
    "import tensorflow as tf\n",
    "# Autres Imports\n",
    "import pandas as pd\n",
    "import numpy as np\n",
    "import sys\n",
    "\n",
    "from sklearn.preprocessing import StandardScaler"
   ]
  },
  {
   "cell_type": "markdown",
   "id": "b2af83ff",
   "metadata": {},
   "source": [
    "# Vérification que l'on utilise la bonne version de TensorFlow (version 2)"
   ]
  },
  {
   "cell_type": "code",
   "execution_count": 2,
   "id": "db5e0198",
   "metadata": {},
   "outputs": [],
   "source": [
    "assert hasattr(tf, \"function\")"
   ]
  },
  {
   "cell_type": "markdown",
   "id": "62011b6b",
   "metadata": {},
   "source": [
    "# Utilisation de Fashion MNIST\n",
    "\n",
    "Fashion MNIST est un dataset déjà préparé qui contient des images de vêtements (chaussures, chemises, talons...). On l'utilise pour entraîner notre modèle à reconnaître les différents types de vêtements (10 possibles)."
   ]
  },
  {
   "cell_type": "code",
   "execution_count": 3,
   "id": "d1145eca",
   "metadata": {},
   "outputs": [
    {
     "name": "stdout",
     "output_type": "stream",
     "text": [
      "(8000, 784) (8000,)\n",
      "(2000, 784) (2000,)\n"
     ]
    }
   ],
   "source": [
    "from sklearn.model_selection import train_test_split # nous permettra de creer automatiquement nos donnees de test\n",
    "\n",
    "# Import de Fashion MNIST\n",
    "fashion_mnist = tf.keras.datasets.fashion_mnist\n",
    "(images, targets), (_,_) = fashion_mnist.load_data() # recuperation des images et targets du dataset\n",
    "# On recupere une sous partie du dataset afin de faire les calculs plus rapidement\n",
    "images = images[:10000]\n",
    "targets = targets[:10000]\n",
    "\n",
    "images = images.reshape(-1, 784)\n",
    "images = images.astype(float)\n",
    "scaler = StandardScaler()\n",
    "images = scaler.fit_transform(images)\n",
    "\n",
    "# Creation des données de test et d'entrainement\n",
    "images_train, images_test, targets_train, targets_test = train_test_split(images, targets, test_size=0.2, random_state=1) # ici, test size = 0.2 donc on utilisera 20% de nos donnees pour en faire des donnees de test\n",
    "\n",
    "print(images_train.shape, targets_train.shape)\n",
    "print(images_test.shape, targets_test.shape)"
   ]
  },
  {
   "cell_type": "markdown",
   "id": "fcd5617f",
   "metadata": {},
   "source": [
    "# Plot d'une des données"
   ]
  },
  {
   "cell_type": "code",
   "execution_count": 4,
   "id": "ebe48ea1",
   "metadata": {},
   "outputs": [
    {
     "data": {
      "image/png": "[encoded data removed]",
      "text/plain": [
       "<Figure size 432x288 with 1 Axes>"
      ]
     },
     "metadata": {
      "needs_background": "light"
     },
     "output_type": "display_data"
    }
   ],
   "source": [
    "# Création des classes \n",
    "targets_names = [\"T-shirt/top\", \"Trouser\", \"Pullover\", \"Dress\", \"Coat\", \"Sandal\", \"Shirt\", \"Sneaker\", \"Bag\", \"Ankle boot\"]\n",
    "\n",
    "# Affichage de la 10eme image\n",
    "plt.imshow(images[9].reshape(28, 28), cmap=\"binary\") # cmap permet de dire que l'image est en gris donc pas de couleurs\n",
    "plt.title(targets_names[targets[9]])\n",
    "plt.show()"
   ]
  },
  {
   "cell_type": "code",
   "execution_count": 5,
   "id": "0d577326",
   "metadata": {},
   "outputs": [
    {
     "name": "stdout",
     "output_type": "stream",
     "text": [
      "First line of one image [-0.01426971 -0.02645579 -0.029489   -0.04635542 -0.06156617 -0.07641125\n",
      " -0.10509579 -0.16410192 -0.23986957 -0.36929666 -0.57063232 -0.6909092\n",
      " -0.7582382  -0.74450346 -0.17093142  0.80572169  0.60465021  0.69474334\n",
      "  0.01007169 -0.32085836 -0.20882718 -0.14379861 -0.11434416 -0.09302065\n",
      "  0.08584529 -0.04969764 -0.03368099 -0.01591863 -0.0181322  -0.02297209\n",
      " -0.03365679 -0.05814043 -0.08287213 -0.13053264 -0.2464668  -0.35905423\n",
      " -0.48335079 -0.63909239 -0.83575443 -0.98917162 -1.08347998 -1.07712864\n",
      "  0.7931674   1.2496451   1.35025207  1.68512162  1.97595936  1.43181167\n",
      "  2.97956664  4.68907298  4.88750284  0.23595608 -0.11565956  0.14562865\n",
      " -0.06100298 -0.03312088 -0.01964757 -0.02793878 -0.0481181  -0.07617253\n",
      " -0.12670992 -0.26684818 -0.39945708 -0.49720396 -0.62326614 -0.8195795\n",
      " -0.99379417 -1.04759214 -1.10371252 -1.10221791  1.08283564  1.22639277\n",
      "  1.35310524  1.34234162  1.66433217  2.15862735  2.75297169  3.22113197\n",
      "  4.62472272  3.87445967 -0.16599094  0.32418594 -0.087733   -0.0526323\n",
      " -0.02862848 -0.04242726 -0.06957184 -0.10501986 -0.21177968 -0.36570732\n",
      " -0.50377706 -0.63129117 -0.7545061  -0.92782181 -1.04671762 -1.04884575\n",
      " -1.10753111 -1.03315535  1.43294532  1.33033833  1.39162212  1.50249446\n",
      "  1.41472555  1.48664927  2.19750146  2.5207204   3.23681206  0.32439317\n",
      " -0.22921786  0.08719395 -0.11524194 -0.06595022 -0.03978101 -0.06151816\n",
      " -0.09394236 -0.14485093 -0.28258668 -0.45013464 -0.60762152 -0.70866125\n",
      " -0.80845132 -0.97106764 -1.06309306 -1.04395211 -1.11950469 -0.35989804\n",
      "  1.56262616  1.30932327  1.41614857  1.49002634  1.44030778  1.4974615\n",
      "  2.02811047  2.22341936  2.1189369   0.28273308  0.22687411 -0.22359138\n",
      " -0.07278968 -0.09631577 -0.05785819 -0.08665899 -0.12303533 -0.19276323\n",
      " -0.34094366 -0.53007774 -0.6636926  -0.76166986 -0.85810993 -1.01973474\n",
      " -1.10359032 -1.13389127 -1.13797187  0.19728184  1.30491585  1.12589712\n",
      "  1.56101992  1.5471799   1.35519155  1.61848413  1.8686844   1.86320923\n",
      "  0.84284685  1.09578392  0.74105846 -0.28563328 -0.1131897  -0.11759717\n",
      " -0.07138681 -0.10484842 -0.15218768 -0.23983624 -0.39446008 -0.58540856\n",
      " -0.70817066 -0.80613957 -0.8912735  -1.04743568 -1.11648233 -1.16203361\n",
      " -1.16480491  0.86892733  1.27412159  0.8998086   0.74428789  1.13274167\n",
      "  1.14002008  1.64475384  1.22579108  1.87626568  0.72713619 -0.21425058\n",
      " -0.44976207 -0.3588039  -0.26052139 -0.14642704 -0.09057754 -0.12852483\n",
      " -0.17658578 -0.27962415 -0.43604854 -0.62328729 -0.74417079 -0.83698675\n",
      " -0.91538507 -1.05836072 -1.09984451 -1.18744141 -1.19142578  1.24141786\n",
      "  1.39079751  1.49192297  1.27955426  1.30948745  1.17061076  0.86607308\n",
      "  1.27421913  0.79750725 -0.86719519 -0.69061632 -0.50423389 -0.42229875\n",
      " -0.30440602 -0.16353165 -0.09817535 -0.14372941 -0.20517067 -0.30866173\n",
      " -0.4655249  -0.65221334 -0.76683863 -0.85659993 -0.93256978 -1.06226401\n",
      " -1.15171237 -1.21294298 -0.55403601  1.46120819  0.97836915  1.05122066\n",
      "  1.2521523   1.05790293  1.35951983  0.90500191  1.55701257  0.82622186\n",
      " -0.93881345 -0.7662494  -0.57465574 -0.48552019 -0.34738009 -0.18855983\n",
      " -0.10483514 -0.16127624 -0.22554475 -0.32839989 -0.48754623 -0.66943952\n",
      " -0.77552861 -0.86498292 -0.94273549 -1.06015652 -1.18041842 -1.23791689\n",
      "  0.42552833  1.46179792  0.99490898  0.75506225  0.87837333  0.82699162\n",
      "  1.09938829  0.76830616  1.48553714 -0.13338616  0.50592885 -0.83182562\n",
      " -0.65812    -0.54406795 -0.39662058 -0.21430757 -0.11419072 -0.17789518\n",
      " -0.23568605 -0.33542269 -0.5026126  -0.67620553 -0.77596799 -0.86788207\n",
      " -0.94980187 -1.03197874 -1.22037631 -1.30832137  1.13203817  1.20044543\n",
      "  1.26727922  1.22318096  1.33469514  1.2591838   1.27789102  0.95415321\n",
      "  1.45083593 -1.14975179 -0.0817779   1.07590662 -0.71352465 -0.61851141\n",
      " -0.45102226 -0.23988228 -0.1324622  -0.1914184  -0.23850724 -0.33502594\n",
      " -0.50210849 -0.67112987 -0.76673944 -0.8616405  -0.96676107 -1.0848351\n",
      " -1.3330483  -0.93497502  1.45610367  1.06754889  1.26636853  1.12103986\n",
      "  0.83294083  1.32533583  0.96137914  0.8823002   1.43281281  1.19611371\n",
      " -0.78940528  1.86544193 -0.74636813 -0.65262812 -0.50618527 -0.26376513\n",
      " -0.14691646 -0.20208667 -0.24647794 -0.34047837 -0.50463299 -0.66562681\n",
      " -0.76193944 -0.87453007 -1.02396861 -1.2315534  -1.51364781 -0.22477969\n",
      "  1.36864633  0.97874683  1.13715509  1.05688341  0.99487436  1.40832046\n",
      "  0.59156431  0.94867054  1.34348434  1.46512153  0.55580094  1.79155088\n",
      "  1.05012863 -0.67067287 -0.54930031 -0.2968015  -0.15491047 -0.21450816\n",
      " -0.261535   -0.36080841 -0.53730463 -0.70325988 -0.81421065 -0.94111069\n",
      " -1.08418556 -1.34365865 -1.53886075  1.09326051  0.72413821  1.27757173\n",
      "  1.36520155  1.17770547  1.0023395   1.39555822  0.29493432  1.10901936\n",
      "  1.36430898  1.27440447  1.52040376  1.40357315  1.72718391  0.1853037\n",
      " -0.57266526 -0.33349732 -0.18106813 -0.27035229 -0.32539614 -0.42952929\n",
      " -0.61751986 -0.7906786  -0.89035399 -0.99618473 -1.1655271  -1.43209714\n",
      " -0.09950582  1.43909587  0.80004613  0.88559108  1.40804576  1.33663711\n",
      "  1.00766279  1.4018325   0.27208395  1.09470572  1.42729615  1.26618628\n",
      "  1.41174747  1.45821099  1.71015214  1.01925997  0.4601322  -0.36757044\n",
      " -0.24958781 -0.3531048  -0.40241884 -0.49907564 -0.69135965 -0.85359971\n",
      " -0.9331706  -1.0059672  -1.2177602  -1.54149264  1.06742005  1.19680318\n",
      "  1.16583857  1.04905231  0.80970041  1.20411735  1.24623527  0.93697892\n",
      "  0.42037146  1.01432568  1.45360261  1.25038614  1.51241082  1.47613898\n",
      "  0.92463771 -0.70060342 -0.62144365 -0.39567218 -0.31147884 -0.40192164\n",
      " -0.45021433 -0.54773943 -0.75003079 -0.889456   -0.98063839 -1.07747814\n",
      " -1.29340698 -0.73928768  1.42310729  1.18867558  1.29652988  1.37945647\n",
      "  1.18486113  0.53438163  0.56912652  1.05669556  0.45154219  0.81022867\n",
      "  1.44123053  1.22117476  1.51323768  1.10025946 -0.84443622 -0.71082151\n",
      " -0.62981211 -0.41576178 -0.33145798 -0.4375847  -0.49080625 -0.59254976\n",
      " -0.79668158 -0.93801891 -1.02130727 -1.11492415 -1.35022588  0.83375288\n",
      "  0.9741596   0.4062541   0.82345526  0.99971607  1.41325802  1.38631373\n",
      "  0.82115561  1.03621816  1.37633608  1.41019057  1.43307373  1.33830106\n",
      "  1.56303358  1.2326212  -0.83324214 -0.68996128 -0.60036851 -0.41411856\n",
      " -0.30332172 -0.43661943 -0.50963747 -0.61804526 -0.82143658 -0.95207361\n",
      " -1.007129   -1.12351256 -0.74667893  1.42122933  1.13385827  1.18497379\n",
      "  0.92903272  0.59292314  0.58084998  0.65192725  1.31203334  1.15530336\n",
      "  0.60156289  1.43433833  1.57231525  1.361918    1.57407123  1.10104004\n",
      " -0.82047003 -0.6717897  -0.59381484 -0.40266963 -0.27443878 -0.40163268\n",
      " -0.47645656 -0.57112574 -0.75359002 -0.90482991 -1.00654795 -1.10010001\n",
      "  0.84646653  1.33590939  1.12318718  1.05983988  1.30375784  1.41841835\n",
      "  1.3363515   0.78329442  0.72603604  1.06772811  1.03728983  0.94268209\n",
      "  1.58352665  1.40736874  1.56396874  0.96402622 -0.79100683 -0.64317699\n",
      " -0.55055123 -0.35674061 -0.26298786 -0.36483148 -0.35501478 -0.56550535\n",
      " -0.76427867 -0.88093481 -0.95714593  0.26300404  1.49151056  0.60123139\n",
      "  1.23314614  1.143365    1.10292773  1.21793326  1.30989735  1.11852481\n",
      "  1.34363077  1.37704795 -0.41238875  0.42876074  1.77110004  1.48771853\n",
      "  1.67709496  0.81572133 -0.7339355  -0.57912664 -0.47893486 -0.30785098\n",
      " -0.2529033  -0.35287467 -0.42241314 -0.53742101 -0.69523159 -0.48322565\n",
      "  0.57649233  1.85134507  0.9703557   0.90721107  0.53503501  1.08207286\n",
      "  1.22790733  1.24437467  1.30849615  1.11971627  1.34908479 -0.64304466\n",
      " -1.38817988  0.69940517  1.86107934  1.56810302  1.7514223   0.72922458\n",
      " -0.67125106 -0.50747585 -0.42746762 -0.27689345 -0.21764707 -0.31533525\n",
      "  1.09716701  3.09682197  2.34175977  2.00796236  1.85994557  1.78597139\n",
      "  1.49141381  0.76297629  1.11039359  0.69358239  1.21783558  1.32207011\n",
      "  1.30769119  1.4354789  -0.5426532  -1.36111624 -1.24797109  0.81824301\n",
      "  1.96644103  1.71151651  1.86841471  0.54069192 -0.61478549 -0.41894205\n",
      " -0.37391927 -0.23491109 -0.18236822  0.34035482  4.02444776  3.30920932\n",
      "  2.29452031  1.8472915   1.73635327  1.85955328  1.58154728  1.45891677\n",
      "  0.75783736  1.06110739  1.11682494  1.46006007  1.55251473  0.62714951\n",
      " -1.26069746 -1.21787971 -1.12506426  0.83640561  2.11376884  1.84866534\n",
      "  1.99153545  0.45817771 -0.55353411 -0.33494561 -0.31442902 -0.19052615\n",
      " -0.14160236  2.93079659  5.14991601  3.31015404  2.4402553   1.95391685\n",
      "  1.96093639  2.10885636  1.66470037  1.5670484   1.42605195  1.03439231\n",
      "  0.57767735  1.22668387  1.64488703 -1.0901502  -1.14072666 -1.04099027\n",
      " -1.03382637  0.81150532  2.25649299  2.09431908  2.11219737  0.25860424\n",
      " -0.50542985 -0.27819146 -0.26277875 -0.15540351 -0.09737914  0.22730653\n",
      "  4.98953189  4.07372805  2.88331858  2.24493644  2.21334692  2.30127177\n",
      "  1.80874389  1.60351937  1.52082639  1.52471192  1.38291296  1.67601794\n",
      " -0.24487056 -0.97710244 -1.02967184 -0.98082293 -0.93945674  0.89027942\n",
      "  2.46430504  2.25517974  2.33765721  0.20729654 -0.45056135 -0.14513081\n",
      " -0.21182513 -0.11366213 -0.05702124 -0.09821816 -0.1785151   0.31968873\n",
      "  1.37577775  1.90665939  2.4520196   2.67288921  2.2232822   1.87944656\n",
      "  1.67634924  1.53152839  1.4299862  -0.162791   -0.81210479 -0.85896501\n",
      " -0.91661542 -0.87628179 -0.83240929  0.60715159  2.67395709  2.65972227\n",
      "  2.0834714  -0.26792583 -0.40009454 -0.14170013 -0.15920537 -0.08310377\n",
      " -0.02780774 -0.0459571  -0.09752313 -0.20921424 -0.33708195 -0.41731463\n",
      " -0.42712608  0.50525833  1.05313252  1.08014246  0.48423045 -0.21840563\n",
      " -0.76160286 -0.69278859 -0.64574229 -0.68429498 -0.73804133 -0.66329112\n",
      " -0.60337338 -0.47578426  1.14396189  0.57528488  0.0308716  -0.39704551\n",
      " -0.28848398 -0.1579693  -0.0929556  -0.03456268]\n",
      "Associated Target 9\n"
     ]
    }
   ],
   "source": [
    "print(\"First line of one image\", images[11])\n",
    "print(\"Associated Target\", targets[11])"
   ]
  },
  {
   "cell_type": "markdown",
   "id": "71db89a0",
   "metadata": {},
   "source": [
    "# Création du modèle\n",
    "\n",
    "## Transformation de l'image en un unique vecteur (flatten)"
   ]
  },
  {
   "cell_type": "code",
   "execution_count": 6,
   "id": "6d979fca",
   "metadata": {},
   "outputs": [
    {
     "name": "stdout",
     "output_type": "stream",
     "text": [
      "Shape de l'image (1, 784)\n",
      "1/1 [==============================] - 0s 60ms/step\n",
      "Shape de l'image apres avoir ete flatten (1, 784)\n"
     ]
    }
   ],
   "source": [
    "# Creation du modele\n",
    "model = tf.keras.models.Sequential()\n",
    "#model.add(tf.keras.layers.Flatten(input_shape=[28,28])) # ajout d'une operation au modele qui \"applatit\" l'entree \n",
    "\n",
    "print(\"Shape de l'image\", images[0:1].shape)\n",
    "model_output = model.predict(images[0:1])\n",
    "print(\"Shape de l'image apres avoir ete flatten\", model_output.shape)"
   ]
  },
  {
   "cell_type": "code",
   "execution_count": 7,
   "id": "b2106b44",
   "metadata": {},
   "outputs": [
    {
     "name": "stdout",
     "output_type": "stream",
     "text": [
      "1/1 [==============================] - 0s 83ms/step\n",
      "[[0.09161066 0.02230119 0.10705068 0.0642746  0.20986134 0.05259704\n",
      "  0.12382625 0.00432477 0.09675548 0.22739793]] [9]\n"
     ]
    }
   ],
   "source": [
    "# Flatten\n",
    "model = tf.keras.models.Sequential()\n",
    "#model.add(tf.keras.layers.Flatten(input_shape=[28,28]))\n",
    "\n",
    "# Ajout des layers de neurones \n",
    "# Modele sequentiel donc l'operation Dense va prendre en entree le resultat de l'operation precedente qui dans notre cas est le\n",
    "# flatten\n",
    "model.add(tf.keras.layers.Dense(256, activation=\"relu\")) # ajout d'une premiere couche de 256 neurones\n",
    "model.add(tf.keras.layers.Dense(256, activation=\"relu\")) # ajout d'une deuxieme couche de 128 neurones ou chaque neurone est connecte a tous les autres du layer precedent\n",
    "model.add(tf.keras.layers.Dense(10, activation=\"softmax\")) # ajout des 10 neurones de sorties permettant de dire de quelle classe est la donnee, cree une repartition des proba de sorte a ce que la somme des 10 soit egale a 1\n",
    "# softmax fait en sorte que la somme de la valeur de sorties des 10 neurones soit egale a 1 ce qui transforme ces sorties en probabilite\n",
    "model_output = model.predict(images[0:1])\n",
    "print(model_output, targets[0:1])"
   ]
  },
  {
   "cell_type": "markdown",
   "id": "330d8096",
   "metadata": {},
   "source": [
    "Ici, on voit que notre modèle s'est trompé. En effet, il prédit une probabilité de 1 pour la classe 5 mais la classe attendue était la classe 9. "
   ]
  },
  {
   "cell_type": "code",
   "execution_count": 6,
   "id": "77734fe2",
   "metadata": {},
   "outputs": [
    {
     "name": "stdout",
     "output_type": "stream",
     "text": [
      "1/1 [==============================] - 0s 111ms/step\n",
      "[[0.11320189 0.25230366 0.31311154 0.01435885 0.09184675 0.02996847\n",
      "  0.01865599 0.1163692  0.02442938 0.02575428]] [9]\n"
     ]
    }
   ],
   "source": [
    "# Boite a lancer\n",
    "# Flatten\n",
    "model = tf.keras.models.Sequential()\n",
    "model.add(tf.keras.layers.Dense(256, activation=\"relu\"))\n",
    "model.add(tf.keras.layers.Dense(128, activation=\"relu\"))\n",
    "model.add(tf.keras.layers.Dense(10, activation=\"softmax\"))\n",
    "\n",
    "model_output = model.predict(images[0:1])\n",
    "print(model_output, targets[0:1])"
   ]
  },
  {
   "cell_type": "markdown",
   "id": "cc48a00e",
   "metadata": {},
   "source": [
    "# Résumé de notre modèle"
   ]
  },
  {
   "cell_type": "code",
   "execution_count": 7,
   "id": "94673e7f",
   "metadata": {},
   "outputs": [
    {
     "name": "stdout",
     "output_type": "stream",
     "text": [
      "Model: \"sequential\"\n",
      "_________________________________________________________________\n",
      " Layer (type)                Output Shape              Param #   \n",
      "=================================================================\n",
      " dense (Dense)               (None, 256)               200960    \n",
      "                                                                 \n",
      " dense_1 (Dense)             (None, 128)               32896     \n",
      "                                                                 \n",
      " dense_2 (Dense)             (None, 10)                1290      \n",
      "                                                                 \n",
      "=================================================================\n",
      "Total params: 235,146\n",
      "Trainable params: 235,146\n",
      "Non-trainable params: 0\n",
      "_________________________________________________________________\n"
     ]
    }
   ],
   "source": [
    "model.summary()"
   ]
  },
  {
   "cell_type": "markdown",
   "id": "38af2396",
   "metadata": {},
   "source": [
    "# Compilation du modèle"
   ]
  },
  {
   "cell_type": "code",
   "execution_count": 8,
   "id": "4592834b",
   "metadata": {},
   "outputs": [],
   "source": [
    "# utilisation d'erreurs afin de minimiser ces dernieres\n",
    "model.compile(\n",
    "    loss=\"sparse_categorical_crossentropy\", # le mot cle sparse permet de pouvoir utiliser des valeurs numeriques en tant que label, sans le sparse il faut utiliser le one hot encoding et donc : si il y a 10 classes possibles, 9 -> [0,0,0,0,0,0,0,0,0,1]\n",
    "    optimizer=\"sgd\", # utilise la methode de la descente de gradient pour reduire les erreurs (stochastique gradient descent)\n",
    "    metrics=[\"accuracy\"]\n",
    ")"
   ]
  },
  {
   "cell_type": "code",
   "execution_count": 9,
   "id": "1cbb32a5",
   "metadata": {},
   "outputs": [],
   "source": [
    "# Normalisation des données \n",
    "images = (images - np.mean(images)) / np.std(images)"
   ]
  },
  {
   "cell_type": "markdown",
   "id": "4ceef39e",
   "metadata": {},
   "source": [
    "# Categorical Cross Entropy"
   ]
  },
  {
   "cell_type": "code",
   "execution_count": 11,
   "id": "9a72bb7b",
   "metadata": {
    "scrolled": true
   },
   "outputs": [
    {
     "name": "stdout",
     "output_type": "stream",
     "text": [
      "(5, 784)\n",
      "[9 0 0 3 0]\n",
      "1/1 [==============================] - 0s 67ms/step\n",
      "(5, 10)\n",
      "OUTPUT [[0.06600002 0.15618822 0.13084066 0.06095745 0.01315954 0.04516076\n",
      "  0.17052859 0.12993284 0.07641073 0.15082127]\n",
      " [0.00744763 0.20266874 0.09575418 0.05392983 0.10951617 0.02679308\n",
      "  0.02108031 0.14792852 0.28600585 0.04887563]\n",
      " [0.05865385 0.05777673 0.11893512 0.07632586 0.07392311 0.07678814\n",
      "  0.08701764 0.17473628 0.20281322 0.07303011]\n",
      " [0.04222837 0.0755189  0.12911464 0.12525421 0.1020844  0.07244674\n",
      "  0.0578849  0.10671784 0.22410625 0.06464373]\n",
      " [0.03763671 0.10939402 0.11137085 0.07907563 0.28312296 0.05203224\n",
      "  0.05408996 0.07977279 0.11542717 0.07807764]]\n",
      "OUTPUT FILTREE [0.15082127 0.00744763 0.05865385 0.12525421 0.03763671]\n",
      "OUTPUT LOG FILTREE [-1.8916599 -4.89986   -2.8361022 -2.07741   -3.2797754]\n",
      "MOYENNE -2.9969614\n",
      "MOYENNE A MINIMISER 2.9969614\n"
     ]
    }
   ],
   "source": [
    "images_test = images[:5]\n",
    "labels_test = targets[:5]\n",
    "\n",
    "print(images_test.shape)\n",
    "print(labels_test)\n",
    "\n",
    "output_test = model.predict(images_test)\n",
    "print(output_test.shape) # on a (5,10) ce qui signifie que l'on a pour chacune des 5 images 10 probabilités, chacune donnant la proba que l'image appartienne à l'une des 10 classes\n",
    "print(\"OUTPUT\",output_test)\n",
    "\n",
    "filtered_output_test = output_test[np.arange(5), labels_test]\n",
    "print(\"OUTPUT FILTREE\", filtered_output_test) # va renvoyer les probabilités associées à la bonne classe de l'objet récupérée dans les labels (1ere etape de categorical cross entropy)\n",
    "\n",
    "log_filtered_output = np.log(filtered_output_test) # permet de minimiser l'erreur en utilisant le log de la proba afin de mieux converger vers une solution appropriee (le log a de meilleurs criteres de convergence), 2e etape de categorical cross entropy\n",
    "print(\"OUTPUT LOG FILTREE\", log_filtered_output)\n",
    "\n",
    "print(\"MOYENNE\", log_filtered_output.mean()) # on fait la moyenne du vecteur des log et l'objectif est de le maximiser mais comme TF ne peut que minimiser, on va minimiser l'inverse de la moyenne de ce vecteur ce qui reviendra a maximiser les probas, derniere etape de categorical cross entropy\n",
    "print(\"MOYENNE A MINIMISER\", -log_filtered_output.mean())"
   ]
  },
  {
   "cell_type": "markdown",
   "id": "5fbf151a",
   "metadata": {},
   "source": [
    "Ensuite, en entraînant le modèle (même sur une epoch) et en relançant cette boîte, on remarque que la moyenne est plus basse et que les valeurs des output filtrées sont elles plus hautes ce qui entraîne aussi une diminution des autres probas. C'est ce qu'on veut, à chaque fois notre modèle devient plus performant et reconnaît de mieux en mieux les données.\n",
    "\n",
    "Remarque : il existe d'autres types de fonctions d'erreur : absolute_difference (pour les modèles de types linéaires), sigmoid_cross_entropy (basé sur le log mais ne prend en compte qu'une valeur en sortie)..."
   ]
  },
  {
   "cell_type": "markdown",
   "id": "a42ad91a",
   "metadata": {},
   "source": [
    "# Entraînement du modèle"
   ]
  },
  {
   "cell_type": "markdown",
   "id": "d447e467",
   "metadata": {},
   "source": [
    "On entraîne le modèle uniquement sur les données de train et non les données de tests"
   ]
  },
  {
   "cell_type": "code",
   "execution_count": 10,
   "id": "eb572b75",
   "metadata": {
    "scrolled": true
   },
   "outputs": [
    {
     "name": "stdout",
     "output_type": "stream",
     "text": [
      "Epoch 1/5\n",
      "6400/6400 [==============================] - 10s 1ms/step - loss: 0.6945 - accuracy: 0.7561 - val_loss: 0.7244 - val_accuracy: 0.7462\n",
      "Epoch 2/5\n",
      "6400/6400 [==============================] - 9s 1ms/step - loss: 0.4747 - accuracy: 0.8358 - val_loss: 0.5519 - val_accuracy: 0.7962\n",
      "Epoch 3/5\n",
      "6400/6400 [==============================] - 8s 1ms/step - loss: 0.3956 - accuracy: 0.8544 - val_loss: 0.5412 - val_accuracy: 0.8200\n",
      "Epoch 4/5\n",
      "6400/6400 [==============================] - 8s 1ms/step - loss: 0.3348 - accuracy: 0.8745 - val_loss: 0.5143 - val_accuracy: 0.8231\n",
      "Epoch 5/5\n",
      "6400/6400 [==============================] - 8s 1ms/step - loss: 0.3067 - accuracy: 0.8872 - val_loss: 0.6361 - val_accuracy: 0.8194\n"
     ]
    }
   ],
   "source": [
    "history = model.fit(images_train, targets_train, epochs=5, validation_split=0.2, batch_size=1) # entrainement de notre dataset en minimisant l'erreur grace a la cellule precedente. epochs signifie que l'on va repeter l'operation 10 fois, validation split signifie que parmi le jeu d'entrainement, on prend 20% qui serviront de donnees de validation"
   ]
  },
  {
   "cell_type": "markdown",
   "id": "3471c061",
   "metadata": {},
   "source": [
    "loss fait echo à \"sparse_categorical_crossentropy\" et l'accuracy est notre metrique. On remarque que loss baisse au cours des itérations ce qui montre qu'à chaque epoch, notre marge d'erreur est réduite. Cela est prouvé aussi par l'accuracy qui elle augmente."
   ]
  },
  {
   "cell_type": "markdown",
   "id": "2f06b33e",
   "metadata": {},
   "source": [
    "# Visualisation sur l'evolution du loss et de l'accuracy"
   ]
  },
  {
   "cell_type": "code",
   "execution_count": 11,
   "id": "1252fc3a",
   "metadata": {},
   "outputs": [
    {
     "data": {
      "image/png": "[encoded data removed]",
      "text/plain": [
       "<Figure size 432x288 with 1 Axes>"
      ]
     },
     "metadata": {
      "needs_background": "light"
     },
     "output_type": "display_data"
    },
    {
     "data": {
      "image/png": "[encoded data removed]",
      "text/plain": [
       "<Figure size 432x288 with 1 Axes>"
      ]
     },
     "metadata": {
      "needs_background": "light"
     },
     "output_type": "display_data"
    }
   ],
   "source": [
    "loss_curve = history.history[\"loss\"]\n",
    "acc_curve = history.history[\"accuracy\"]\n",
    "\n",
    "loss_val_curve = history.history[\"val_loss\"]\n",
    "acc_val_curve = history.history[\"val_accuracy\"]\n",
    "\n",
    "plt.plot(loss_curve, label=\"Train\")\n",
    "plt.plot(loss_val_curve, label=\"Val\")\n",
    "plt.legend(loc='upper left')\n",
    "plt.title(\"Loss\")\n",
    "plt.show()\n",
    "\n",
    "plt.plot(acc_curve, label='Train')\n",
    "plt.plot(acc_val_curve, label=\"Val\")\n",
    "plt.legend(loc='upper left')\n",
    "plt.title(\"Accuracy\")\n",
    "plt.show()"
   ]
  },
  {
   "cell_type": "markdown",
   "id": "eff23cd3",
   "metadata": {},
   "source": [
    "Nous avons utiliser un Train Set jusqu'ici. Nous voyons sur la courbe loss que plus on entraîne notre modèle plus la marge d'erreur se rapproche de 0. Néanmoins cela ne suffit pas, nous pouvons aussi rajouter un Validation Set (qui doit être différent du Train Set). Cela évite l'overfitting, cas où notre modèle a appris par coeur ses données et prête attention à des détails inutiles qui ne concernent pas les données étudiées (ex : photos d'animaux, le modèle reconnaît les chaises et les canapés et si on lui donne un animal mais cette fois à l'éxtérieur, comme il ne voit pas de chaises ou quoi il ne saura pas reconnaître l'animal comme il faut). L'overfitting se remarque lorsque la marge d'erreur sur le train set diminue tandis que celle sur le validation set se stabilise et ne diminue plus (la courbe peut meme remonter ce qui n'est pas bon). L'overfitting est l'écart des courbes du train set et du validation set. Pour finir, on utilise aussi le Test Set afin de savoir à quel point notre modèle est performant. Attention, le test set ne doit pas être optimisé afin d'avoir de meilleurs résultats.\n",
    "\n",
    "Il vaut mieux arrêter l'entrainement lorsque la courbe des donnees de validation commence a stagner et faire un plateau meme si l'accuracy sur les donnees d'entrainement continue d'evoluer"
   ]
  },
  {
   "cell_type": "markdown",
   "id": "f126c2d4",
   "metadata": {},
   "source": [
    "# Fonctions d'activation"
   ]
  },
  {
   "cell_type": "markdown",
   "id": "ef99ed27",
   "metadata": {},
   "source": [
    "- Linéaire -> pas d'activation, la valeur d'activation est égale à la valeur de pré activation et on peut avoir en sortie une valeur allant de - l'infini à + l'infini. (ex : pour détecter un oeuf : si val de sortie > 0, oeuf détecté sinon pas oeuf détécté\n",
    "\n",
    "- Sigmoid -> prend en entrée val de - à + l'infini (val de pré activation) et va réduire ces valeurs entre 0 et 1 (sous forme de probabilité). Proba < 0,5 si val < 0 et > 0.5 si val > 0. Donne la proba que l'image qu'on ait soit celle d'un oeuf.\n",
    "\n",
    "Néanmoins, si on a plusieurs sigmoid au même layer, il se peut qu'on en ait un qui soit sur a 80% d'avoir un oeuf, l'autre sur a 45 % d'avoir une tomate et l'autre sur a 65% d'avoir une carotte. Ce qui n'est pas bon car c'est un d'eux mais pas tous. Il faut donc que lorsqu'un sigmoid est très sur de lui (99% par ex), les autres soient surs qu'ils se trompent. Pour ça, il nous faut une distribution des probas avec le softmax :\n",
    "\n",
    "- Softmax -> Prend en entrée toutes les pré activations de tous les neurones de la couche précédente. Avec cela, il renvoie en sortie des probas dont la somme est égale à 1 (chaque proba étant associée a chaque neurone pris en entrée).\n",
    "\n",
    "Normaliser ses données permet d'avoir un écart plus petit entre les valeurs ce qui permet de faciliter la convergence des modèles et de les rendre plus performant. (ex : au lieu de faire valeur d'angle entre 90 et -90, on fait val entre -1 et 1).\n",
    "\n",
    "- Tanh : convertit les valeurs données en entrées en valeurs situées entre -1 et 1, ressemble à Sigmoid sur le principe. La différence ici c'est que tanh a une valeur de gradient plus grande ce qui évite le vanish gradient problem (problème ou le gradient devient trop petit et empeche le modele de bien s'entrainer car les poids seront modifies trop lentement et le modele ne convergera pas). Tanh est utile lorsque l'on a besoin d'une valeur précise en sortie. Tanh > Sigmoid si on a le choix entre les deux.\n",
    "\n",
    "- Relu -> si la valeur de pre activation < 0 alors la valeur de sortie = 0 et si la val > 0 alors la valeur de sortie = valeur de pre activation et ça devient donc linéaire. Lorsque l'activation devient linéaire, le gradient sera linéaire donc il aura moins tendance à tendre vers 0. Ce qui fait que l'on va mieux converger mais attention car si val de pre activ inférieure a 0, les neurones ne seront pas modifiés. Mais relu a le meilleur critere de convergence. Relu s'applique a la sortie de chaque neuron des \"hiddden layers\", ceux responsable des valeurs de pre activation.\n",
    "\n",
    "Remarque : pour les layers intermediaires, il est important d'introduire de la non linearite et ensuite de choisir les criteres d'activation qui, dans notre cas, nous donnerons les meilleurs critères de convergence."
   ]
  },
  {
   "cell_type": "markdown",
   "id": "341070c7",
   "metadata": {},
   "source": [
    "# Sauvegarde du modèle"
   ]
  },
  {
   "cell_type": "code",
   "execution_count": 12,
   "id": "96f74298",
   "metadata": {},
   "outputs": [],
   "source": [
    "model.save(\"simple_nn.h5\") # va creer un fichier dans le meme dossier que le notebook"
   ]
  },
  {
   "cell_type": "markdown",
   "id": "bdf742b9",
   "metadata": {},
   "source": [
    "# Chargement du modèle (pas besoin de relancer les boîtes sauf import)"
   ]
  },
  {
   "cell_type": "code",
   "execution_count": 6,
   "id": "f164907c",
   "metadata": {},
   "outputs": [
    {
     "name": "stdout",
     "output_type": "stream",
     "text": [
      "1/1 [==============================] - 0s 44ms/step\n",
      "[[9.1694101e-09 1.0000000e+00 3.1691414e-09 7.1107897e-10 1.8198897e-11\n",
      "  3.1598790e-11 1.5034769e-10 3.4372101e-13 1.6776920e-09 2.7850580e-12]] [1]\n"
     ]
    }
   ],
   "source": [
    "loaded_model = tf.keras.models.load_model(\"simple_nn.h5\")\n",
    "print(loaded_model.predict(images_test[0:1]), targets_test[0:1])"
   ]
  },
  {
   "cell_type": "markdown",
   "id": "7209a02a",
   "metadata": {},
   "source": [
    "On observe que notre modèle a bien prédit. On vient de faire de l'inference (= utilisation d'un modele deja entrainé). On pourra réutiliser le modele sur de nouvelles donnees que l'on collectera."
   ]
  },
  {
   "cell_type": "code",
   "execution_count": null,
   "id": "3cc7e33f",
   "metadata": {},
   "outputs": [],
   "source": []
  }
 ],
 "metadata": {
  "kernelspec": {
   "display_name": "Python 3 (ipykernel)",
   "language": "python",
   "name": "python3"
  },
  "language_info": {
   "codemirror_mode": {
    "name": "ipython",
    "version": 3
   },
   "file_extension": ".py",
   "mimetype": "text/x-python",
   "name": "python",
   "nbconvert_exporter": "python",
   "pygments_lexer": "ipython3",
   "version": "3.9.13"
  }
 },
 "nbformat": 4,
 "nbformat_minor": 5
}
